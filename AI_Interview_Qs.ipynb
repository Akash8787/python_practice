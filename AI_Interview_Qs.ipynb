{
  "cells": [
    {
      "cell_type": "markdown",
      "metadata": {
        "id": "NKkAvsmNZs7g"
      },
      "source": [
        "# AI Developer Technical Assessment\n",
        "Instructions: Fill in your answers under each question. You may use standard libraries."
      ]
    },
    {
      "cell_type": "markdown",
      "metadata": {
        "id": "lue4S92JhbIa"
      },
      "source": [
        "Q1.\n",
        "What will be the output of the code below? Explain why.\n",
        "\n",
        "\n",
        "```\n",
        "mylist = []\n",
        "print(mylist is None)\n",
        "print(not mylist)\n",
        "```\n",
        "\n"
      ]
    },
    {
      "cell_type": "code",
      "execution_count": 1,
      "metadata": {},
      "outputs": [
        {
          "name": "stdout",
          "output_type": "stream",
          "text": [
            "False\n",
            "True\n"
          ]
        }
      ],
      "source": [
        "mylist = []\n",
        "print(mylist is None)\n",
        "print(not mylist)"
      ]
    },
    {
      "cell_type": "markdown",
      "metadata": {
        "id": "TpDrpgs9Z0T5"
      },
      "source": [
        "Q1 Answer:\n",
        "\n",
        "_Enter your answer here_\n"
      ]
    },
    {
      "cell_type": "markdown",
      "metadata": {
        "id": "NFXrFWK3hyo9"
      },
      "source": [
        "Q2.\n",
        "\n",
        "a) What is the expected output of the code below?\n",
        "\n",
        "\n",
        "```\n",
        "my_list = []\n",
        "for character in 'Hello world':\n",
        "    my_list.append(character)\n",
        "print(my_list)\n",
        "```"
      ]
    },
    {
      "cell_type": "code",
      "execution_count": 2,
      "metadata": {},
      "outputs": [
        {
          "name": "stdout",
          "output_type": "stream",
          "text": [
            "['H', 'e', 'l', 'l', 'o', ' ', 'w', 'o', 'r', 'l', 'd']\n"
          ]
        }
      ],
      "source": [
        "my_list = []\n",
        "for character in 'Hello world':\n",
        "    my_list.append(character)\n",
        "print(my_list)"
      ]
    },
    {
      "cell_type": "markdown",
      "metadata": {
        "id": "3A4dscL3iesX"
      },
      "source": [
        "Q2 a) Answer:\n",
        "\n",
        "_Enter your answer here_\n"
      ]
    },
    {
      "cell_type": "code",
      "execution_count": null,
      "metadata": {
        "id": "tbvrG7UHaBSa"
      },
      "outputs": [],
      "source": [
        "# Q2 b)\n",
        "# Rewrite the above code in one line using list comprehension.\n",
        "\n",
        "# Your code:"
      ]
    },
    {
      "cell_type": "markdown",
      "metadata": {
        "id": "GGw7KFMiiN3V"
      },
      "source": [
        "Q3. What will the following code output?\n",
        "\n",
        "```\n",
        "names = ['manas', 'siddharth', 'tejaswi', 'rohit', 'ganesh']\n",
        "subjects = ['java', 'python', 'R', 'cpp', 'bigdata']\n",
        "marks = [78, 100, 97, 89, 80]\n",
        "for i, t in enumerate(zip(names, subjects, marks)):\n",
        "    print(i, t)\n",
        "    if i:\n",
        "      break\n",
        "  ```"
      ]
    },
    {
      "cell_type": "code",
      "execution_count": 21,
      "metadata": {},
      "outputs": [
        {
          "name": "stdout",
          "output_type": "stream",
          "text": [
            "0 ('manas', 'java', 78)\n",
            "1 ('siddharth', 'python', 100)\n"
          ]
        }
      ],
      "source": [
        "names = ['manas', 'siddharth', 'tejaswi', 'rohit', 'ganesh']\n",
        "subjects = ['java', 'python', 'R', 'cpp', 'bigdata']\n",
        "marks = [78, 100, 97, 89, 80]\n",
        "for i, t in enumerate(zip(names, subjects, marks)):\n",
        "    print(i, t)\n",
        "    if i:\n",
        "      break"
      ]
    },
    {
      "cell_type": "markdown",
      "metadata": {
        "id": "1MeXa5Usig0e"
      },
      "source": [
        "Q3 Answer:\n",
        "\n",
        "_Enter your answer here_\n",
        "\n",
        "\n"
      ]
    },
    {
      "cell_type": "markdown",
      "metadata": {
        "id": "Pqg91hGhkkpb"
      },
      "source": [
        "Q4. What is the output of the code below?\n",
        "\n",
        "```\n",
        "matrix = [[1, 2, 3], [4, 5, 6], [7, 8, 9]]\n",
        "flattened = []\n",
        "for row in matrix:\n",
        "    for num in row:\n",
        "        if num % 2 == 0:\n",
        "            flattened.append(num)\n",
        "print(flattened)\n",
        "```"
      ]
    },
    {
      "cell_type": "code",
      "execution_count": 4,
      "metadata": {},
      "outputs": [
        {
          "name": "stdout",
          "output_type": "stream",
          "text": [
            "[2, 4, 6, 8]\n"
          ]
        }
      ],
      "source": [
        "matrix = [[1, 2, 3], [4, 5, 6], [7, 8, 9]]\n",
        "flattened = []\n",
        "for row in matrix:\n",
        "    for num in row:\n",
        "        if num % 2 == 0:\n",
        "            flattened.append(num)\n",
        "print(flattened)"
      ]
    },
    {
      "cell_type": "markdown",
      "metadata": {
        "id": "m2iV7sM9vMPC"
      },
      "source": [
        "Q4 Answer:\n",
        "\n",
        "_Enter your answer here_\n"
      ]
    },
    {
      "cell_type": "code",
      "execution_count": 8,
      "metadata": {
        "id": "9ePm7CtoaUVd"
      },
      "outputs": [
        {
          "name": "stdout",
          "output_type": "stream",
          "text": [
            "ksh\n"
          ]
        }
      ],
      "source": [
        "# Q5.\n",
        "# Write a function to remove all vowels from an input string. Retain original formatting (spaces, special characters, etc.)\n",
        "def remove_vowels(text):\n",
        "    \"\"\"\n",
        "    Remove all vowels from a string.\n",
        "\n",
        "    Args:\n",
        "        text (str): Input string\n",
        "\n",
        "    Returns:\n",
        "        str: String with vowels removed\n",
        "    \"\"\"\n",
        "    # Your code below:\n",
        "    vowel_removed_text = \"\"\n",
        "    voewl = \"aeiouAEIOU\"\n",
        "    for i in text:\n",
        "        if i not in voewl:\n",
        "            vowel_removed_text+=i\n",
        "    return vowel_removed_text\n",
        "str = input(\"Enter a Str:\")\n",
        "result = remove_vowels(str)\n",
        "print(result)\n"
      ]
    },
    {
      "cell_type": "code",
      "execution_count": 11,
      "metadata": {
        "id": "3Ahq8sNqESkT"
      },
      "outputs": [
        {
          "data": {
            "text/plain": [
              "{'python': 6, 'is': 2, 'a': 1, 'powerful': 8, 'programming': 11, 'language': 8}"
            ]
          },
          "execution_count": 11,
          "metadata": {},
          "output_type": "execute_result"
        }
      ],
      "source": [
        "# Q6.\n",
        "# Create a dictionary where keys are words from the text and values are their lengths.\n",
        "# If you can, use dictionary comprehension to solve this in one line.\n",
        "text = \"python is a powerful programming language\"\n",
        "# text = text.split()\n",
        "word_lengths = {word: len(word) for word in text.split()}\n",
        "word_lengths\n",
        "\n",
        "# word={}\n",
        "# for i in text:\n",
        "#     word[i]=len(i)\n",
        "# print(word)\n",
        "# Your code below:"
      ]
    },
    {
      "cell_type": "code",
      "execution_count": 13,
      "metadata": {
        "id": "UwMwZhz3fZJ7"
      },
      "outputs": [
        {
          "name": "stdout",
          "output_type": "stream",
          "text": [
            "[1.5, 2.5, 3.5, 4.5]\n",
            "[2.0, 3.0, 4.0]\n",
            "[15.0, 25.0, 35.0]\n"
          ]
        }
      ],
      "source": [
        "# Q7.\n",
        "# Write a function that takes a list of numbers and returns a list of the running averages (moving average with window size w)\n",
        "\n",
        "def running_average(numbers, window_size):\n",
        "    \"\"\"\n",
        "    Calculate the moving average of a list with a specified window size.\n",
        "\n",
        "    Args:\n",
        "        numbers (list): List of numeric values.\n",
        "        window_size (int): Size of the averaging window. Must be ≥ 1.\n",
        "\n",
        "    Returns:\n",
        "        list: List of running averages as floats.\n",
        "\n",
        "    Examples:\n",
        "        >>> running_average([1, 2, 3, 4, 5], 2)\n",
        "        [1.5, 2.5, 3.5, 4.5]\n",
        "        >>> running_average([1, 2, 3, 4, 5], 3)\n",
        "        [2.0, 3.0, 4.0]\n",
        "    \"\"\"\n",
        "    # Your code below:\n",
        "\n",
        "    if window_size < 1:\n",
        "        raise ValueError(\"Window size must be at least 1\")\n",
        "    if not numbers or window_size > len(numbers):\n",
        "        return []\n",
        "\n",
        "    return [sum(numbers[i:i+window_size]) / window_size for i in range(len(numbers) - window_size + 1)]\n",
        "\n",
        "print(running_average([1, 2, 3, 4, 5], 2))  # Expected: [1.5, 2.5, 3.5, 4.5]\n",
        "print(running_average([1, 2, 3, 4, 5], 3))  # Expected: [2.0, 3.0, 4.0]\n",
        "print(running_average([10, 20, 30, 40], 2)) # Expected: [15.0, 25.0, 35.0]\n"
      ]
    },
    {
      "cell_type": "code",
      "execution_count": 19,
      "metadata": {
        "id": "XW9xZx258stn"
      },
      "outputs": [
        {
          "name": "stdout",
          "output_type": "stream",
          "text": [
            "9\n"
          ]
        }
      ],
      "source": [
        "# Q8.\n",
        "# Define a decorator called 'timer' that calculates and prints the execution time\n",
        "# of any function it decorates. Then apply it to the function below.\n",
        "\n",
        "import time\n",
        "# Your imports below:\n",
        "from functools import wraps\n",
        "\n",
        "#---\n",
        "\n",
        "def timer(func):\n",
        "    \"\"\"\n",
        "    Decorator that measures and prints a function's execution time.\n",
        "\n",
        "    Args:\n",
        "        func (callable): Function to be timed\n",
        "\n",
        "    Returns:\n",
        "        callable: Wrapped function with timing functionality\n",
        "    \"\"\"\n",
        "    # Your code below:\n",
        "    @wraps(func)\n",
        "    def wrapper(*args, **kwargs):\n",
        "        start_time = time.time()\n",
        "        result = func(*args, **kwargs)\n",
        "        end_time = time.time()\n",
        "        print(f\"Function '{func.__name__}' executed in {end_time - start_time:.4f} seconds.\")\n",
        "        return result\n",
        "    return wrapper\n",
        "\n",
        "\n",
        "def sq_and_sleep(x):\n",
        "    \"\"\"\n",
        "    Squares the input after a 1-second delay.\n",
        "\n",
        "    Args:\n",
        "        x (int/float): Number to square\n",
        "\n",
        "    Returns:\n",
        "        int/float: Square of the input value\n",
        "    \"\"\"\n",
        "    time.sleep(5)\n",
        "    return x ** 2\n",
        "\n",
        "# ✅ Test the function\n",
        "print(sq_and_sleep(3))  # Should print execution time ~1s and result 9"
      ]
    }
  ],
  "metadata": {
    "colab": {
      "provenance": []
    },
    "kernelspec": {
      "display_name": "env",
      "language": "python",
      "name": "python3"
    },
    "language_info": {
      "codemirror_mode": {
        "name": "ipython",
        "version": 3
      },
      "file_extension": ".py",
      "mimetype": "text/x-python",
      "name": "python",
      "nbconvert_exporter": "python",
      "pygments_lexer": "ipython3",
      "version": "3.9.13"
    }
  },
  "nbformat": 4,
  "nbformat_minor": 0
}
